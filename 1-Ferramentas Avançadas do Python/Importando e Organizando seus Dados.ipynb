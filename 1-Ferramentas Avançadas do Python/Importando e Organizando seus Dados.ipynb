{
 "cells": [
  {
   "cell_type": "markdown",
   "metadata": {},
   "source": [
    "Extração de Dados"
   ]
  },
  {
   "cell_type": "code",
   "execution_count": 4,
   "metadata": {},
   "outputs": [],
   "source": [
    "import numpy as np\n",
    "import pandas as pd"
   ]
  },
  {
   "cell_type": "code",
   "execution_count": 7,
   "metadata": {},
   "outputs": [],
   "source": [
    "ser= pd.Series(np.random.random(5), name=\"Column 01\")"
   ]
  },
  {
   "cell_type": "code",
   "execution_count": 8,
   "metadata": {},
   "outputs": [
    {
     "data": {
      "text/plain": [
       "0    0.451408\n",
       "1    0.721252\n",
       "2    0.777089\n",
       "3    0.371642\n",
       "4    0.398362\n",
       "Name: Column 01, dtype: float64"
      ]
     },
     "execution_count": 8,
     "metadata": {},
     "output_type": "execute_result"
    }
   ],
   "source": [
    "ser"
   ]
  },
  {
   "cell_type": "code",
   "execution_count": 9,
   "metadata": {},
   "outputs": [
    {
     "data": {
      "text/plain": [
       "0.7770889444035685"
      ]
     },
     "execution_count": 9,
     "metadata": {},
     "output_type": "execute_result"
    }
   ],
   "source": [
    "ser[2]"
   ]
  },
  {
   "cell_type": "code",
   "execution_count": 14,
   "metadata": {},
   "outputs": [],
   "source": [
    "from pandas_datareader import data as wb"
   ]
  },
  {
   "cell_type": "code",
   "execution_count": 15,
   "metadata": {},
   "outputs": [],
   "source": [
    "import yfinance as yf"
   ]
  },
  {
   "cell_type": "code",
   "execution_count": 17,
   "metadata": {},
   "outputs": [
    {
     "name": "stdout",
     "output_type": "stream",
     "text": [
      "yfinance: pandas_datareader support is deprecated & semi-broken so will be removed in a future verison. Just use yfinance.\n"
     ]
    }
   ],
   "source": [
    "yf.pdr_override()"
   ]
  },
  {
   "cell_type": "code",
   "execution_count": 19,
   "metadata": {},
   "outputs": [
    {
     "name": "stderr",
     "output_type": "stream",
     "text": [
      "[*********************100%%**********************]  1 of 1 completed\n"
     ]
    }
   ],
   "source": [
    "PG= wb.get_data_yahoo(\"PG\",start=\"1995-1-1\")"
   ]
  },
  {
   "cell_type": "code",
   "execution_count": 42,
   "metadata": {},
   "outputs": [
    {
     "data": {
      "text/html": [
       "<div>\n",
       "<style scoped>\n",
       "    .dataframe tbody tr th:only-of-type {\n",
       "        vertical-align: middle;\n",
       "    }\n",
       "\n",
       "    .dataframe tbody tr th {\n",
       "        vertical-align: top;\n",
       "    }\n",
       "\n",
       "    .dataframe thead th {\n",
       "        text-align: right;\n",
       "    }\n",
       "</style>\n",
       "<table border=\"1\" class=\"dataframe\">\n",
       "  <thead>\n",
       "    <tr style=\"text-align: right;\">\n",
       "      <th></th>\n",
       "      <th>Open</th>\n",
       "      <th>High</th>\n",
       "      <th>Low</th>\n",
       "      <th>Close</th>\n",
       "      <th>Adj Close</th>\n",
       "      <th>Volume</th>\n",
       "    </tr>\n",
       "    <tr>\n",
       "      <th>Date</th>\n",
       "      <th></th>\n",
       "      <th></th>\n",
       "      <th></th>\n",
       "      <th></th>\n",
       "      <th></th>\n",
       "      <th></th>\n",
       "    </tr>\n",
       "  </thead>\n",
       "  <tbody>\n",
       "    <tr>\n",
       "      <th>1995-01-03</th>\n",
       "      <td>15.468750</td>\n",
       "      <td>15.625000</td>\n",
       "      <td>15.437500</td>\n",
       "      <td>15.593750</td>\n",
       "      <td>7.529933</td>\n",
       "      <td>3318400</td>\n",
       "    </tr>\n",
       "    <tr>\n",
       "      <th>1995-01-04</th>\n",
       "      <td>15.531250</td>\n",
       "      <td>15.656250</td>\n",
       "      <td>15.312500</td>\n",
       "      <td>15.468750</td>\n",
       "      <td>7.469570</td>\n",
       "      <td>2218800</td>\n",
       "    </tr>\n",
       "    <tr>\n",
       "      <th>1995-01-05</th>\n",
       "      <td>15.375000</td>\n",
       "      <td>15.437500</td>\n",
       "      <td>15.218750</td>\n",
       "      <td>15.250000</td>\n",
       "      <td>7.363940</td>\n",
       "      <td>2319600</td>\n",
       "    </tr>\n",
       "    <tr>\n",
       "      <th>1995-01-06</th>\n",
       "      <td>15.156250</td>\n",
       "      <td>15.406250</td>\n",
       "      <td>15.156250</td>\n",
       "      <td>15.281250</td>\n",
       "      <td>7.379034</td>\n",
       "      <td>3438000</td>\n",
       "    </tr>\n",
       "    <tr>\n",
       "      <th>1995-01-09</th>\n",
       "      <td>15.343750</td>\n",
       "      <td>15.406250</td>\n",
       "      <td>15.187500</td>\n",
       "      <td>15.218750</td>\n",
       "      <td>7.348853</td>\n",
       "      <td>1795200</td>\n",
       "    </tr>\n",
       "    <tr>\n",
       "      <th>...</th>\n",
       "      <td>...</td>\n",
       "      <td>...</td>\n",
       "      <td>...</td>\n",
       "      <td>...</td>\n",
       "      <td>...</td>\n",
       "      <td>...</td>\n",
       "    </tr>\n",
       "    <tr>\n",
       "      <th>2024-07-08</th>\n",
       "      <td>165.949997</td>\n",
       "      <td>166.669998</td>\n",
       "      <td>165.619995</td>\n",
       "      <td>166.520004</td>\n",
       "      <td>166.520004</td>\n",
       "      <td>5144500</td>\n",
       "    </tr>\n",
       "    <tr>\n",
       "      <th>2024-07-09</th>\n",
       "      <td>166.630005</td>\n",
       "      <td>166.759995</td>\n",
       "      <td>165.139999</td>\n",
       "      <td>165.660004</td>\n",
       "      <td>165.660004</td>\n",
       "      <td>4393100</td>\n",
       "    </tr>\n",
       "    <tr>\n",
       "      <th>2024-07-10</th>\n",
       "      <td>165.899994</td>\n",
       "      <td>166.919998</td>\n",
       "      <td>165.539993</td>\n",
       "      <td>166.800003</td>\n",
       "      <td>166.800003</td>\n",
       "      <td>5037100</td>\n",
       "    </tr>\n",
       "    <tr>\n",
       "      <th>2024-07-11</th>\n",
       "      <td>166.300003</td>\n",
       "      <td>166.630005</td>\n",
       "      <td>164.779999</td>\n",
       "      <td>165.539993</td>\n",
       "      <td>165.539993</td>\n",
       "      <td>5831500</td>\n",
       "    </tr>\n",
       "    <tr>\n",
       "      <th>2024-07-12</th>\n",
       "      <td>166.220001</td>\n",
       "      <td>167.639999</td>\n",
       "      <td>166.020004</td>\n",
       "      <td>166.610001</td>\n",
       "      <td>166.610001</td>\n",
       "      <td>4682400</td>\n",
       "    </tr>\n",
       "  </tbody>\n",
       "</table>\n",
       "<p>7433 rows × 6 columns</p>\n",
       "</div>"
      ],
      "text/plain": [
       "                  Open        High         Low       Close   Adj Close  \\\n",
       "Date                                                                     \n",
       "1995-01-03   15.468750   15.625000   15.437500   15.593750    7.529933   \n",
       "1995-01-04   15.531250   15.656250   15.312500   15.468750    7.469570   \n",
       "1995-01-05   15.375000   15.437500   15.218750   15.250000    7.363940   \n",
       "1995-01-06   15.156250   15.406250   15.156250   15.281250    7.379034   \n",
       "1995-01-09   15.343750   15.406250   15.187500   15.218750    7.348853   \n",
       "...                ...         ...         ...         ...         ...   \n",
       "2024-07-08  165.949997  166.669998  165.619995  166.520004  166.520004   \n",
       "2024-07-09  166.630005  166.759995  165.139999  165.660004  165.660004   \n",
       "2024-07-10  165.899994  166.919998  165.539993  166.800003  166.800003   \n",
       "2024-07-11  166.300003  166.630005  164.779999  165.539993  165.539993   \n",
       "2024-07-12  166.220001  167.639999  166.020004  166.610001  166.610001   \n",
       "\n",
       "             Volume  \n",
       "Date                 \n",
       "1995-01-03  3318400  \n",
       "1995-01-04  2218800  \n",
       "1995-01-05  2319600  \n",
       "1995-01-06  3438000  \n",
       "1995-01-09  1795200  \n",
       "...             ...  \n",
       "2024-07-08  5144500  \n",
       "2024-07-09  4393100  \n",
       "2024-07-10  5037100  \n",
       "2024-07-11  5831500  \n",
       "2024-07-12  4682400  \n",
       "\n",
       "[7433 rows x 6 columns]"
      ]
     },
     "execution_count": 42,
     "metadata": {},
     "output_type": "execute_result"
    }
   ],
   "source": [
    "PG\n"
   ]
  },
  {
   "cell_type": "code",
   "execution_count": null,
   "metadata": {},
   "outputs": [],
   "source": [
    "PG.info()"
   ]
  },
  {
   "cell_type": "code",
   "execution_count": null,
   "metadata": {},
   "outputs": [],
   "source": [
    "PG.head() # Confere as primeiras X linhas da DB"
   ]
  },
  {
   "cell_type": "code",
   "execution_count": null,
   "metadata": {},
   "outputs": [],
   "source": [
    "PG.tail(20) # Confere as ultimas X linhas da DB"
   ]
  },
  {
   "cell_type": "code",
   "execution_count": null,
   "metadata": {},
   "outputs": [],
   "source": [
    "tickers= ['PG', 'MSFT', 'T', 'F', 'GE']\n",
    "new_data= pd.DataFrame()\n",
    "for t in tickers:\n",
    "    new_data[t] = wb.get_data_yahoo(t, start=\"1995-1-1\")[\"Adj Close\"]"
   ]
  },
  {
   "cell_type": "code",
   "execution_count": null,
   "metadata": {},
   "outputs": [],
   "source": [
    "new_data.tail()"
   ]
  },
  {
   "cell_type": "markdown",
   "metadata": {},
   "source": [
    "Importando e Organizando Dados pt II - IEX"
   ]
  },
  {
   "cell_type": "code",
   "execution_count": 37,
   "metadata": {},
   "outputs": [
    {
     "name": "stderr",
     "output_type": "stream",
     "text": [
      "[*********************100%%**********************]  1 of 1 completed\n"
     ]
    }
   ],
   "source": [
    "iex= wb.get_data_yahoo(\"iex\", start=\"2015-1-1\")"
   ]
  },
  {
   "cell_type": "code",
   "execution_count": null,
   "metadata": {},
   "outputs": [],
   "source": [
    "iex"
   ]
  },
  {
   "cell_type": "markdown",
   "metadata": {},
   "source": [
    "Criando Tabela de Cotações"
   ]
  },
  {
   "cell_type": "code",
   "execution_count": 43,
   "metadata": {},
   "outputs": [
    {
     "name": "stderr",
     "output_type": "stream",
     "text": [
      "[*********************100%%**********************]  1 of 1 completed\n",
      "[*********************100%%**********************]  1 of 1 completed\n",
      "[*********************100%%**********************]  1 of 1 completed\n",
      "[*********************100%%**********************]  1 of 1 completed\n",
      "[*********************100%%**********************]  1 of 1 completed\n"
     ]
    }
   ],
   "source": [
    "tickers= ['PG', 'MSFT', 'T', 'F', 'GE']\n",
    "new_data= pd.DataFrame()\n",
    "for t in tickers:\n",
    "    new_data[t]= wb.get_data_yahoo(t, start=\"2015-1-1\")[\"Close\"]"
   ]
  },
  {
   "cell_type": "code",
   "execution_count": 44,
   "metadata": {},
   "outputs": [
    {
     "data": {
      "text/html": [
       "<div>\n",
       "<style scoped>\n",
       "    .dataframe tbody tr th:only-of-type {\n",
       "        vertical-align: middle;\n",
       "    }\n",
       "\n",
       "    .dataframe tbody tr th {\n",
       "        vertical-align: top;\n",
       "    }\n",
       "\n",
       "    .dataframe thead th {\n",
       "        text-align: right;\n",
       "    }\n",
       "</style>\n",
       "<table border=\"1\" class=\"dataframe\">\n",
       "  <thead>\n",
       "    <tr style=\"text-align: right;\">\n",
       "      <th></th>\n",
       "      <th>PG</th>\n",
       "      <th>MSFT</th>\n",
       "      <th>T</th>\n",
       "      <th>F</th>\n",
       "      <th>GE</th>\n",
       "    </tr>\n",
       "    <tr>\n",
       "      <th>Date</th>\n",
       "      <th></th>\n",
       "      <th></th>\n",
       "      <th></th>\n",
       "      <th></th>\n",
       "      <th></th>\n",
       "    </tr>\n",
       "  </thead>\n",
       "  <tbody>\n",
       "    <tr>\n",
       "      <th>2024-07-08</th>\n",
       "      <td>166.520004</td>\n",
       "      <td>466.239990</td>\n",
       "      <td>18.809999</td>\n",
       "      <td>12.98</td>\n",
       "      <td>163.529999</td>\n",
       "    </tr>\n",
       "    <tr>\n",
       "      <th>2024-07-09</th>\n",
       "      <td>165.660004</td>\n",
       "      <td>459.540009</td>\n",
       "      <td>18.799999</td>\n",
       "      <td>12.90</td>\n",
       "      <td>163.130005</td>\n",
       "    </tr>\n",
       "    <tr>\n",
       "      <th>2024-07-10</th>\n",
       "      <td>166.800003</td>\n",
       "      <td>466.250000</td>\n",
       "      <td>18.740000</td>\n",
       "      <td>13.17</td>\n",
       "      <td>165.699997</td>\n",
       "    </tr>\n",
       "    <tr>\n",
       "      <th>2024-07-11</th>\n",
       "      <td>165.539993</td>\n",
       "      <td>454.700012</td>\n",
       "      <td>18.860001</td>\n",
       "      <td>13.47</td>\n",
       "      <td>161.919998</td>\n",
       "    </tr>\n",
       "    <tr>\n",
       "      <th>2024-07-12</th>\n",
       "      <td>166.610001</td>\n",
       "      <td>453.549988</td>\n",
       "      <td>18.809999</td>\n",
       "      <td>14.03</td>\n",
       "      <td>159.009995</td>\n",
       "    </tr>\n",
       "  </tbody>\n",
       "</table>\n",
       "</div>"
      ],
      "text/plain": [
       "                    PG        MSFT          T      F          GE\n",
       "Date                                                            \n",
       "2024-07-08  166.520004  466.239990  18.809999  12.98  163.529999\n",
       "2024-07-09  165.660004  459.540009  18.799999  12.90  163.130005\n",
       "2024-07-10  166.800003  466.250000  18.740000  13.17  165.699997\n",
       "2024-07-11  165.539993  454.700012  18.860001  13.47  161.919998\n",
       "2024-07-12  166.610001  453.549988  18.809999  14.03  159.009995"
      ]
     },
     "execution_count": 44,
     "metadata": {},
     "output_type": "execute_result"
    }
   ],
   "source": [
    "new_data.tail()"
   ]
  }
 ],
 "metadata": {
  "kernelspec": {
   "display_name": "base",
   "language": "python",
   "name": "python3"
  },
  "language_info": {
   "codemirror_mode": {
    "name": "ipython",
    "version": 3
   },
   "file_extension": ".py",
   "mimetype": "text/x-python",
   "name": "python",
   "nbconvert_exporter": "python",
   "pygments_lexer": "ipython3",
   "version": "3.12.4"
  }
 },
 "nbformat": 4,
 "nbformat_minor": 2
}
